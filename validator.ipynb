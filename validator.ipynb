{
 "metadata": {
  "language_info": {
   "codemirror_mode": {
    "name": "ipython",
    "version": 3
   },
   "file_extension": ".py",
   "mimetype": "text/x-python",
   "name": "python",
   "nbconvert_exporter": "python",
   "pygments_lexer": "ipython3",
   "version": "3.9.1-final"
  },
  "orig_nbformat": 2,
  "kernelspec": {
   "name": "python3",
   "display_name": "Python 3.9.1 64-bit",
   "metadata": {
    "interpreter": {
     "hash": "916dbcbb3f70747c44a77c7bcd40155683ae19c65e1c03b4aa3499c5328201f1"
    }
   }
  }
 },
 "nbformat": 4,
 "nbformat_minor": 2,
 "cells": [
  {
   "cell_type": "code",
   "execution_count": 1,
   "metadata": {},
   "outputs": [],
   "source": [
    "# import section\n",
    "\n",
    "from validate_email import validate_email # check if email exists"
   ]
  },
  {
   "cell_type": "code",
   "execution_count": 4,
   "metadata": {},
   "outputs": [],
   "source": [
    "# constants\n",
    "\n",
    "file_path = \"/root/Desktop/Work/Test/GmailMail/email/emails.txt\""
   ]
  },
  {
   "cell_type": "code",
   "execution_count": 5,
   "metadata": {},
   "outputs": [
    {
     "output_type": "stream",
     "name": "stdout",
     "text": [
      "['genandy@gmail.com', 'shybaiev@gmail.com', 'genandyshybaiev@gmail.com', 'genandy.shybaiev@gmail.com', 'gshybaiev@gmail.com', 'g.shybaiev@gmail.com', 'genandys@gmail.com', 'genandy.s@gmail.com', 'gs@gmail.com', 'g.s@gmail.com', 'shybaievgenandy@gmail.com', 'shybaiev.genandy@gmail.com', 'shybaievg@gmail.com', 'shybaiev.g@gmail.com', 'sgenandy@gmail.com', 's.genandy@gmail.com', 'sg@gmail.com', 's.g@gmail.com', 'genandy-shybaiev@gmail.com', 'g-shybaiev@gmail.com', 'genandy-s@gmail.com', 'g-s@gmail.com', 'shybaiev-genandy@gmail.com', 'shybaiev-g@gmail.com', 's-genandy@gmail.com', 's-g@gmail.com', 'genandy_shybaiev@gmail.com', 'g_shybaiev@gmail.com', 'genandy_s@gmail.com', 'g_s@gmail.com', 'shybaiev_genandy@gmail.com', 'shybaiev_g@gmail.com', 's_genandy@gmail.com', 's_g@gmail.com']\n"
     ]
    }
   ],
   "source": [
    "# Read file with emails\n",
    "\n",
    "file = open( file_path, 'r' )\n",
    "Lines = file.readlines()\n",
    "email_list = [ elem.replace('\\n', '') for elem in Lines ]\n",
    "print( email_list )"
   ]
  },
  {
   "cell_type": "code",
   "execution_count": 11,
   "metadata": {},
   "outputs": [
    {
     "output_type": "stream",
     "name": "stdout",
     "text": [
      "successfully sent the mail\n"
     ]
    }
   ],
   "source": [
    "for email in email_list:\n",
    "    is_valid = validate_email( email, verify=True )\n",
    "    print( email + \": \" + str( is_valid ) )"
   ]
  },
  {
   "cell_type": "code",
   "execution_count": null,
   "metadata": {},
   "outputs": [],
   "source": []
  },
  {
   "cell_type": "code",
   "execution_count": 2,
   "metadata": {},
   "outputs": [],
   "source": []
  }
 ]
}